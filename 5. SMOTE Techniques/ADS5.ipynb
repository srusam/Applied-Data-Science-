{
  "cells": [
    {
      "cell_type": "markdown",
      "source": [
        " **➡️Install Required Libraries**"
      ],
      "metadata": {
        "id": "8XZG-_oxyhfX"
      }
    },
    {
      "cell_type": "code",
      "source": [
        "!pip install imbalanced-learn pandas"
      ],
      "metadata": {
        "colab": {
          "base_uri": "https://localhost:8080/"
        },
        "id": "srUY5q5YyfZf",
        "outputId": "414ecd90-e051-40b4-9352-b239f48d4dff"
      },
      "execution_count": 1,
      "outputs": [
        {
          "output_type": "stream",
          "name": "stdout",
          "text": [
            "Requirement already satisfied: imbalanced-learn in /usr/local/lib/python3.11/dist-packages (0.13.0)\n",
            "Requirement already satisfied: pandas in /usr/local/lib/python3.11/dist-packages (2.2.2)\n",
            "Requirement already satisfied: numpy<3,>=1.24.3 in /usr/local/lib/python3.11/dist-packages (from imbalanced-learn) (1.26.4)\n",
            "Requirement already satisfied: scipy<2,>=1.10.1 in /usr/local/lib/python3.11/dist-packages (from imbalanced-learn) (1.13.1)\n",
            "Requirement already satisfied: scikit-learn<2,>=1.3.2 in /usr/local/lib/python3.11/dist-packages (from imbalanced-learn) (1.6.1)\n",
            "Requirement already satisfied: sklearn-compat<1,>=0.1 in /usr/local/lib/python3.11/dist-packages (from imbalanced-learn) (0.1.3)\n",
            "Requirement already satisfied: joblib<2,>=1.1.1 in /usr/local/lib/python3.11/dist-packages (from imbalanced-learn) (1.4.2)\n",
            "Requirement already satisfied: threadpoolctl<4,>=2.0.0 in /usr/local/lib/python3.11/dist-packages (from imbalanced-learn) (3.5.0)\n",
            "Requirement already satisfied: python-dateutil>=2.8.2 in /usr/local/lib/python3.11/dist-packages (from pandas) (2.8.2)\n",
            "Requirement already satisfied: pytz>=2020.1 in /usr/local/lib/python3.11/dist-packages (from pandas) (2025.1)\n",
            "Requirement already satisfied: tzdata>=2022.7 in /usr/local/lib/python3.11/dist-packages (from pandas) (2025.1)\n",
            "Requirement already satisfied: six>=1.5 in /usr/local/lib/python3.11/dist-packages (from python-dateutil>=2.8.2->pandas) (1.17.0)\n"
          ]
        }
      ]
    },
    {
      "cell_type": "markdown",
      "source": [
        " **➡️Import Libraries**"
      ],
      "metadata": {
        "id": "ROjFP88fzBGy"
      }
    },
    {
      "cell_type": "code",
      "source": [
        "import pandas as pd\n",
        "from imblearn.over_sampling import SMOTE, SMOTEN, SMOTENC\n",
        "from sklearn.model_selection import train_test_split"
      ],
      "metadata": {
        "id": "H3Slp_QyzFpf"
      },
      "execution_count": 2,
      "outputs": []
    },
    {
      "cell_type": "markdown",
      "source": [
        " **➡️Load the Data**"
      ],
      "metadata": {
        "id": "32eMh_sizM6n"
      }
    },
    {
      "cell_type": "code",
      "source": [
        "file_path = '/content/Cleaned_Accumulative_distribution.csv'\n",
        "data = pd.read_csv(file_path)\n",
        "\n",
        "# Display basic info\n",
        "print(data.head())\n",
        "print(\"\\nClass Distribution Before SMOTE:\")\n",
        "print(data['Type'].value_counts())"
      ],
      "metadata": {
        "colab": {
          "base_uri": "https://localhost:8080/"
        },
        "id": "2AWOZYgYzVjg",
        "outputId": "581718e5-b4a7-4e8e-9a06-6e5062651496"
      },
      "execution_count": 3,
      "outputs": [
        {
          "output_type": "stream",
          "name": "stdout",
          "text": [
            "         ID           Type  Movie_number  Fly_number  Other_number  \\\n",
            "0 -1.731908  Dmelanogaster     -1.540178   -1.474087     -1.647509   \n",
            "1 -1.731623  Dmelanogaster     -1.540178   -1.300665     -1.647509   \n",
            "2 -1.731339  Dmelanogaster     -1.540178   -1.127243     -1.647509   \n",
            "3 -1.731054  Dmelanogaster     -1.540178   -0.953821     -1.647509   \n",
            "4 -1.730769  Dmelanogaster     -1.540178   -0.780399     -1.647509   \n",
            "\n",
            "   Difference_x  Difference_y  Distance  \n",
            "0     -0.291126      0.136903 -0.968219  \n",
            "1     -0.714968     -0.445300 -0.413533  \n",
            "2     -1.780003      1.731326  1.374617  \n",
            "3     -1.871965     -1.020045  0.942211  \n",
            "4     -0.289079      0.247088 -0.897781  \n",
            "\n",
            "Class Distribution Before SMOTE:\n",
            "Type\n",
            "Dmelanogaster     4560\n",
            "Calocasiae(IR)    4180\n",
            "Calocasiae        3420\n",
            "Name: count, dtype: int64\n"
          ]
        }
      ]
    },
    {
      "cell_type": "markdown",
      "source": [
        " **➡️Separate Data for SMOTE**"
      ],
      "metadata": {
        "id": "1JgMQWx4znKR"
      }
    },
    {
      "cell_type": "markdown",
      "source": [
        "\n",
        "\n",
        "*   Separate features (X) and target (y).\n",
        "*   Encode categorical features if necessary.\n",
        "\n"
      ],
      "metadata": {
        "id": "94lR0X5Sz6In"
      }
    },
    {
      "cell_type": "code",
      "source": [
        "from sklearn.preprocessing import LabelEncoder\n",
        "\n",
        "# Encode the target variable\n",
        "le = LabelEncoder()\n",
        "data['Type'] = le.fit_transform(data['Type'])\n",
        "\n",
        "X = data.drop(columns=['Type', 'ID'])\n",
        "y = data['Type']"
      ],
      "metadata": {
        "id": "pD9lhrZ301tn"
      },
      "execution_count": 4,
      "outputs": []
    },
    {
      "cell_type": "markdown",
      "source": [
        "**➡️Apply Different SMOTE Variants**"
      ],
      "metadata": {
        "id": "OfBvDlTN1gnv"
      }
    },
    {
      "cell_type": "markdown",
      "source": [
        "# **🌸Basic SMOTE**"
      ],
      "metadata": {
        "id": "4ET0wCvH1vBm"
      }
    },
    {
      "cell_type": "code",
      "source": [
        "smote = SMOTE(random_state=42)\n",
        "X_res, y_res = smote.fit_resample(X, y)\n",
        "print(\"\\nClass Distribution After Basic SMOTE:\")\n",
        "print(pd.Series(y_res).value_counts())"
      ],
      "metadata": {
        "colab": {
          "base_uri": "https://localhost:8080/"
        },
        "id": "84Vf9c2a13N4",
        "outputId": "02f2bd4b-ab03-4a33-e55c-abb5f3c41a64"
      },
      "execution_count": 5,
      "outputs": [
        {
          "output_type": "stream",
          "name": "stdout",
          "text": [
            "\n",
            "Class Distribution After Basic SMOTE:\n",
            "Type\n",
            "2    4560\n",
            "0    4560\n",
            "1    4560\n",
            "Name: count, dtype: int64\n"
          ]
        }
      ]
    },
    {
      "cell_type": "markdown",
      "source": [
        "# **🌸SMOTEN (For Categorical Data)**"
      ],
      "metadata": {
        "id": "CyQplvIb2G9n"
      }
    },
    {
      "cell_type": "code",
      "source": [
        "smoten = SMOTEN(random_state=42)\n",
        "X_res_n, y_res_n = smoten.fit_resample(X, y)\n",
        "print(\"\\nClass Distribution After SMOTEN:\")\n",
        "print(pd.Series(y_res_n).value_counts())"
      ],
      "metadata": {
        "colab": {
          "base_uri": "https://localhost:8080/"
        },
        "id": "AKaso0Dd2SDu",
        "outputId": "be3aa7f1-8faa-4711-953e-94b89806cbbf"
      },
      "execution_count": 6,
      "outputs": [
        {
          "output_type": "stream",
          "name": "stdout",
          "text": [
            "\n",
            "Class Distribution After SMOTEN:\n",
            "Type\n",
            "2    4560\n",
            "0    4560\n",
            "1    4560\n",
            "Name: count, dtype: int64\n"
          ]
        }
      ]
    },
    {
      "cell_type": "markdown",
      "source": [
        "# **🌸SMOTENC (for Mixed Data: Numeric + Categorical)**"
      ],
      "metadata": {
        "id": "BAYPclfu21_4"
      }
    },
    {
      "cell_type": "code",
      "source": [
        "from numpy import where\n",
        "\n",
        "# Define categorical feature indices (update as needed)\n",
        "categorical_features = [X.columns.get_loc('Fly_number')]\n",
        "\n",
        "smotenc = SMOTENC(categorical_features=categorical_features, random_state=42)\n",
        "X_res_nc, y_res_nc = smotenc.fit_resample(X, y)\n",
        "print(\"\\nClass Distribution After SMOTENC:\")\n",
        "print(pd.Series(y_res_nc).value_counts())"
      ],
      "metadata": {
        "colab": {
          "base_uri": "https://localhost:8080/"
        },
        "id": "1mS8ri4V2bSA",
        "outputId": "a664ee7b-7dfe-47db-c262-e0d15edd00e4"
      },
      "execution_count": 7,
      "outputs": [
        {
          "output_type": "stream",
          "name": "stdout",
          "text": [
            "\n",
            "Class Distribution After SMOTENC:\n",
            "Type\n",
            "2    4560\n",
            "0    4560\n",
            "1    4560\n",
            "Name: count, dtype: int64\n"
          ]
        }
      ]
    },
    {
      "cell_type": "markdown",
      "source": [
        "# **🌸Adaptive SMOTE (ADASYN)**"
      ],
      "metadata": {
        "id": "zmLZ5VdI3Lr3"
      }
    },
    {
      "cell_type": "code",
      "source": [
        "from collections import Counter\n",
        "print(\"Class Distribution Before ADASYN:\", Counter(y))\n"
      ],
      "metadata": {
        "colab": {
          "base_uri": "https://localhost:8080/"
        },
        "id": "-IY0CSYn3jNP",
        "outputId": "5b1d1ef1-d896-4daa-8033-5bb357adbf06"
      },
      "execution_count": 9,
      "outputs": [
        {
          "output_type": "stream",
          "name": "stdout",
          "text": [
            "Class Distribution Before ADASYN: Counter({2: 4560, 1: 4180, 0: 3420})\n"
          ]
        }
      ]
    },
    {
      "cell_type": "code",
      "source": [
        "from imblearn.over_sampling import ADASYN\n",
        "\n",
        "adasyn = ADASYN(sampling_strategy={0: 4560}, random_state=42)  # Balance Class 0 to 4560\n",
        "X_res_ada, y_res_ada = adasyn.fit_resample(X, y)\n",
        "print(\"\\nClass Distribution After ADASYN:\")\n",
        "print(Counter(y_res_ada))\n"
      ],
      "metadata": {
        "colab": {
          "base_uri": "https://localhost:8080/"
        },
        "id": "qZaZBoCW3yFn",
        "outputId": "84d0809b-e681-451a-a067-05ea3d9760a5"
      },
      "execution_count": 10,
      "outputs": [
        {
          "output_type": "stream",
          "name": "stdout",
          "text": [
            "\n",
            "Class Distribution After ADASYN:\n",
            "Counter({0: 4720, 2: 4560, 1: 4180})\n"
          ]
        }
      ]
    },
    {
      "cell_type": "markdown",
      "source": [
        "# **🌸SAFER SMOTE**"
      ],
      "metadata": {
        "id": "2hadnB5s4OYM"
      }
    },
    {
      "cell_type": "code",
      "source": [
        "from imblearn.over_sampling import SVMSMOTE\n",
        "\n",
        "safer_smote = SVMSMOTE(random_state=42)\n",
        "X_res_safe, y_res_safe = safer_smote.fit_resample(X, y)\n",
        "print(\"\\nClass Distribution After Safer SMOTE:\")\n",
        "print(pd.Series(y_res_safe).value_counts())"
      ],
      "metadata": {
        "colab": {
          "base_uri": "https://localhost:8080/"
        },
        "id": "ampVmsFT4Hof",
        "outputId": "70ec5617-f563-47a3-aeda-c205320139ba"
      },
      "execution_count": 12,
      "outputs": [
        {
          "output_type": "stream",
          "name": "stdout",
          "text": [
            "\n",
            "Class Distribution After Safer SMOTE:\n",
            "Type\n",
            "2    4560\n",
            "0    4560\n",
            "1    4560\n",
            "Name: count, dtype: int64\n"
          ]
        }
      ]
    },
    {
      "cell_type": "markdown",
      "source": [
        "**➡️Comparison Plot for Each Technique**"
      ],
      "metadata": {
        "id": "xHnZG3WV4kyu"
      }
    },
    {
      "cell_type": "code",
      "source": [
        "import matplotlib.pyplot as plt\n",
        "\n",
        "fig, ax = plt.subplots(1, 6, figsize=(30, 5))\n",
        "ax[0].hist(y, color='skyblue')\n",
        "ax[0].set_title('Original Data')\n",
        "ax[1].hist(y_res, color='lightcoral')\n",
        "ax[1].set_title('SMOTE')\n",
        "ax[2].hist(y_res_n, color='lightgreen')\n",
        "ax[2].set_title('SMOTEN')\n",
        "ax[3].hist(y_res_nc, color='lightpink')\n",
        "ax[3].set_title('SMOTENC')\n",
        "ax[4].hist(y_res_ada, color='lightyellow')\n",
        "ax[4].set_title('ADASYN')\n",
        "ax[5].hist(y_res_safe, color='lightblue')\n",
        "ax[5].set_title('Safer SMOTE')\n",
        "\n",
        "plt.show()"
      ],
      "metadata": {
        "colab": {
          "base_uri": "https://localhost:8080/",
          "height": 251
        },
        "id": "S1Yn1xM04ac3",
        "outputId": "eb1263b4-ffbd-4e52-82b0-6d0de1c72a74"
      },
      "execution_count": 14,
      "outputs": [
        {
          "output_type": "display_data",
          "data": {
            "text/plain": [
              "<Figure size 3000x500 with 6 Axes>"
            ],
            "image/png": "[encoded data removed]"
          },
          "metadata": {}
        }
      ]
    }
  ],
  "metadata": {
    "colab": {
      "provenance": []
    },
    "kernelspec": {
      "display_name": "Python 3",
      "name": "python3"
    },
    "language_info": {
      "name": "python"
    }
  },
  "nbformat": 4,
  "nbformat_minor": 0
}